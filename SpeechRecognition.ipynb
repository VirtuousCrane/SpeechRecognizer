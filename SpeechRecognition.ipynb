{
 "cells": [
  {
   "cell_type": "markdown",
   "metadata": {},
   "source": [
    "# Test Sound"
   ]
  },
  {
   "cell_type": "markdown",
   "metadata": {},
   "source": [
    "## Loading and getting Audio MFCC using Librosa"
   ]
  },
  {
   "cell_type": "code",
   "execution_count": 1,
   "metadata": {},
   "outputs": [
    {
     "name": "stderr",
     "output_type": "stream",
     "text": [
      "C:\\Users\\Chayut\\Anaconda3\\envs\\venv\\lib\\site-packages\\librosa\\util\\decorators.py:9: NumbaDeprecationWarning: \u001b[1mAn import was requested from a module that has moved location.\n",
      "Import requested from: 'numba.decorators', please update to use 'numba.core.decorators' or pin to Numba version 0.48.0. This alias will not be present in Numba version 0.50.0.\u001b[0m\n",
      "  from numba.decorators import jit as optional_jit\n",
      "C:\\Users\\Chayut\\Anaconda3\\envs\\venv\\lib\\site-packages\\librosa\\util\\decorators.py:9: NumbaDeprecationWarning: \u001b[1mAn import was requested from a module that has moved location.\n",
      "Import of 'jit' requested from: 'numba.decorators', please update to use 'numba.core.decorators' or pin to Numba version 0.48.0. This alias will not be present in Numba version 0.50.0.\u001b[0m\n",
      "  from numba.decorators import jit as optional_jit\n"
     ]
    }
   ],
   "source": [
    "import librosa\n",
    "from librosa.feature import mfcc\n",
    "import numpy as np\n",
    "import sklearn"
   ]
  },
  {
   "cell_type": "code",
   "execution_count": 2,
   "metadata": {},
   "outputs": [
    {
     "name": "stdout",
     "output_type": "stream",
     "text": [
      "<class 'numpy.ndarray'> <class 'int'>\n"
     ]
    }
   ],
   "source": [
    "audio_path = 'a/data/nlpnd_projects/LibriSpeech/dev-clean/1272/141231/1272-141231-0000.flac'\n",
    "time_series , sampling_rate = librosa.load(audio_path, sr=None)\n",
    "print(type(time_series), type(sampling_rate))"
   ]
  },
  {
   "cell_type": "code",
   "execution_count": 3,
   "metadata": {},
   "outputs": [
    {
     "name": "stdout",
     "output_type": "stream",
     "text": [
      "[-0.00048828 -0.00018311 -0.00137329 ...  0.00079346  0.00091553\n",
      "  0.00085449]\n",
      "16000\n"
     ]
    }
   ],
   "source": [
    "print(time_series)\n",
    "print(sampling_rate)"
   ]
  },
  {
   "cell_type": "code",
   "execution_count": 4,
   "metadata": {},
   "outputs": [
    {
     "name": "stdout",
     "output_type": "stream",
     "text": [
      "(13, 146)\n"
     ]
    }
   ],
   "source": [
    "sample_mfcc = mfcc(time_series, sr=sampling_rate, n_mfcc=13)\n",
    "print(sample_mfcc.shape)"
   ]
  },
  {
   "cell_type": "code",
   "execution_count": 5,
   "metadata": {},
   "outputs": [
    {
     "name": "stdout",
     "output_type": "stream",
     "text": [
      "(146, 13)\n"
     ]
    }
   ],
   "source": [
    "sample_mfcc = np.transpose(sample_mfcc)\n",
    "print(sample_mfcc.shape)"
   ]
  },
  {
   "cell_type": "markdown",
   "metadata": {},
   "source": [
    "In this case, mfcc computed 20 mfccs over 145 time frames.\\\n",
    "Displaying the mfcc:"
   ]
  },
  {
   "cell_type": "code",
   "execution_count": 6,
   "metadata": {},
   "outputs": [
    {
     "data": {
      "text/plain": [
       "<matplotlib.axes._subplots.AxesSubplot at 0xb0b6baa940>"
      ]
     },
     "execution_count": 6,
     "metadata": {},
     "output_type": "execute_result"
    },
    {
     "data": {
      "image/png": "[encoded data removed]",
      "text/plain": [
       "<Figure size 432x288 with 1 Axes>"
      ]
     },
     "metadata": {
      "needs_background": "light"
     },
     "output_type": "display_data"
    }
   ],
   "source": [
    "import librosa.display\n",
    "librosa.display.specshow(sample_mfcc, sr=sampling_rate, y_axis='time')"
   ]
  },
  {
   "cell_type": "markdown",
   "metadata": {},
   "source": [
    "*Note that mfcc can be calculated with the 'essentia' library as well, see [here](https://musicinformationretrieval.com/mfcc.html#essentia.standard.MFCC)*"
   ]
  },
  {
   "cell_type": "markdown",
   "metadata": {},
   "source": [
    "## Feature Scaling\n",
    "Scale to make sure that each coefficient dimension has 0 mean and unit variance."
   ]
  },
  {
   "cell_type": "code",
   "execution_count": 7,
   "metadata": {},
   "outputs": [
    {
     "name": "stdout",
     "output_type": "stream",
     "text": [
      "[-9.7980237e-09  0.0000000e+00  9.7980237e-09  0.0000000e+00\n",
      "  8.1650198e-10  1.3064032e-08  3.2660079e-09  8.1650198e-09\n",
      "  1.3064032e-08  1.6330040e-09  6.5320158e-09  0.0000000e+00\n",
      "  1.3064032e-08]\n",
      "[1.0000001  0.9999999  1.         0.9999999  1.0000001  0.99999976\n",
      " 1.         1.         1.         1.0000001  1.         1.\n",
      " 0.9999999 ]\n"
     ]
    },
    {
     "name": "stderr",
     "output_type": "stream",
     "text": [
      "C:\\Users\\Chayut\\Anaconda3\\envs\\venv\\lib\\site-packages\\sklearn\\preprocessing\\_data.py:173: UserWarning: Numerical issues were encountered when centering the data and might not be solved. Dataset may contain too large values. You may need to prescale your features.\n",
      "  warnings.warn(\"Numerical issues were encountered \"\n",
      "C:\\Users\\Chayut\\Anaconda3\\envs\\venv\\lib\\site-packages\\sklearn\\preprocessing\\_data.py:190: UserWarning: Numerical issues were encountered when scaling the data and might not be solved. The standard deviation of the data is probably very close to 0. \n",
      "  warnings.warn(\"Numerical issues were encountered \"\n"
     ]
    }
   ],
   "source": [
    "mfccs = sklearn.preprocessing.scale(sample_mfcc, axis=0)\n",
    "print(mfccs.mean(axis=0))\n",
    "print(mfccs.var(axis=0))"
   ]
  },
  {
   "cell_type": "code",
   "execution_count": 8,
   "metadata": {},
   "outputs": [
    {
     "data": {
      "text/plain": [
       "<matplotlib.axes._subplots.AxesSubplot at 0xb0b6c3b820>"
      ]
     },
     "execution_count": 8,
     "metadata": {},
     "output_type": "execute_result"
    },
    {
     "data": {
      "image/png": "[encoded data removed]",
      "text/plain": [
       "<Figure size 432x288 with 1 Axes>"
      ]
     },
     "metadata": {
      "needs_background": "light"
     },
     "output_type": "display_data"
    }
   ],
   "source": [
    "librosa.display.specshow(mfccs, sr=sampling_rate, y_axis='time')"
   ]
  },
  {
   "cell_type": "markdown",
   "metadata": {},
   "source": [
    "# Getting data from a whole folder (with transcripts)"
   ]
  },
  {
   "cell_type": "markdown",
   "metadata": {},
   "source": [
    "## Getting the transcripts ready"
   ]
  },
  {
   "cell_type": "code",
   "execution_count": 9,
   "metadata": {},
   "outputs": [
    {
     "name": "stderr",
     "output_type": "stream",
     "text": [
      "Using TensorFlow backend.\n"
     ]
    }
   ],
   "source": [
    "import helper\n",
    "import os"
   ]
  },
  {
   "cell_type": "code",
   "execution_count": 10,
   "metadata": {},
   "outputs": [],
   "source": [
    "if not os.path.exists('1272-141231.txt'):\n",
    "    helper.create_transcript_from_folder('./a/data/nlpnd_projects/LibriSpeech/dev-clean/', '1272', '141231', '1272-141231.txt')"
   ]
  },
  {
   "cell_type": "code",
   "execution_count": 11,
   "metadata": {},
   "outputs": [],
   "source": [
    "if not os.path.exists('transcript.txt'):\n",
    "    helper.create_transcript('./a/data/nlpnd_projects/LibriSpeech/dev-clean/', ['1272', '1462', '1673'], 'transcript.txt')"
   ]
  },
  {
   "cell_type": "markdown",
   "metadata": {},
   "source": [
    "## Getting Train and Test set"
   ]
  },
  {
   "cell_type": "code",
   "execution_count": 12,
   "metadata": {},
   "outputs": [],
   "source": [
    "train_path, train_duration, train_text, test_path, test_duration, test_text, validation_path, validation_duration, validation_text = helper.train_test_val_split('transcript.txt')"
   ]
  },
  {
   "cell_type": "code",
   "execution_count": 13,
   "metadata": {},
   "outputs": [
    {
     "name": "stdout",
     "output_type": "stream",
     "text": [
      "Data Sorted!\n"
     ]
    }
   ],
   "source": [
    "sorted_train_path, sorted_train_duration, sorted_train_text = helper.sort_data(train_path, train_duration, train_text)\n",
    "# test_path, test_duration, test_text = helper.sort_data(test_path, test_duration, test_text)\n",
    "# validation_path, validation_duration, validation_text = helper.sort_data(validation_path, validation_duration, validation_text)"
   ]
  },
  {
   "cell_type": "markdown",
   "metadata": {},
   "source": [
    "*TODO:* **Suggestion to self: 1st epoch train by sorted duration, 2nd onwards train randomly**"
   ]
  },
  {
   "cell_type": "code",
   "execution_count": 19,
   "metadata": {},
   "outputs": [
    {
     "name": "stdout",
     "output_type": "stream",
     "text": [
      "155\n"
     ]
    }
   ],
   "source": [
    "print(len(train_path))"
   ]
  },
  {
   "cell_type": "markdown",
   "metadata": {},
   "source": [
    "# Building a Model"
   ]
  },
  {
   "cell_type": "markdown",
   "metadata": {},
   "source": [
    "## Importing necessary dependencies"
   ]
  },
  {
   "cell_type": "code",
   "execution_count": 14,
   "metadata": {},
   "outputs": [],
   "source": [
    "from keras import backend as K\n",
    "from keras.models import Model\n",
    "from keras.layers import (BatchNormalization, Conv1D, Dense, Input, Dropout,\n",
    "    TimeDistributed, Activation, Bidirectional, SimpleRNN, GRU, LSTM)"
   ]
  },
  {
   "cell_type": "markdown",
   "metadata": {},
   "source": [
    "## Creating a sample model: RNN + TimeDistributed Dense"
   ]
  },
  {
   "cell_type": "code",
   "execution_count": 15,
   "metadata": {},
   "outputs": [],
   "source": [
    "def rnn_model(input_dim, units, activation, output_dim=29):\n",
    "    input_data = Input(shape=(None, input_dim), name='the_input')\n",
    "    simp_gru = GRU(units=units, activation=activation, return_sequences=True, implementation=2, name='model_gru')(input_data)\n",
    "    bn = BatchNormalization()(simp_gru)\n",
    "    td = TimeDistributed(Dense(output_dim=output_dim))(bn)\n",
    "    y_pred = Activation('softmax')(td)\n",
    "    model = Model(inputs=input_data, outputs=y_pred)\n",
    "    model.output_length = lambda x:x\n",
    "    print(model.summary())\n",
    "    return model"
   ]
  },
  {
   "cell_type": "code",
   "execution_count": 16,
   "metadata": {},
   "outputs": [
    {
     "name": "stdout",
     "output_type": "stream",
     "text": [
      "Model: \"model_1\"\n",
      "_________________________________________________________________\n",
      "Layer (type)                 Output Shape              Param #   \n",
      "=================================================================\n",
      "the_input (InputLayer)       (None, None, 13)          0         \n",
      "_________________________________________________________________\n",
      "model_gru (GRU)              (None, None, 200)         128400    \n",
      "_________________________________________________________________\n",
      "batch_normalization_1 (Batch (None, None, 200)         800       \n",
      "_________________________________________________________________\n",
      "time_distributed_1 (TimeDist (None, None, 29)          5829      \n",
      "_________________________________________________________________\n",
      "activation_1 (Activation)    (None, None, 29)          0         \n",
      "=================================================================\n",
      "Total params: 135,029\n",
      "Trainable params: 134,629\n",
      "Non-trainable params: 400\n",
      "_________________________________________________________________\n",
      "None\n"
     ]
    },
    {
     "name": "stderr",
     "output_type": "stream",
     "text": [
      "<ipython-input-15-18c267c032fa>:5: UserWarning: Update your `Dense` call to the Keras 2 API: `Dense(units=29)`\n",
      "  td = TimeDistributed(Dense(output_dim=output_dim))(bn)\n"
     ]
    }
   ],
   "source": [
    "model_1 = rnn_model(input_dim=13, # change to 13 if you would like to use MFCC features\n",
    "                    units=200,\n",
    "                    activation='relu')"
   ]
  },
  {
   "cell_type": "code",
   "execution_count": 17,
   "metadata": {},
   "outputs": [],
   "source": [
    "_, feats_mean, feats_std = helper.fit_train(train_path, train_duration, train_text)"
   ]
  },
  {
   "cell_type": "code",
   "execution_count": 18,
   "metadata": {},
   "outputs": [
    {
     "name": "stdout",
     "output_type": "stream",
     "text": [
      "Epoch step: 7\n",
      "Validation step: 1\n",
      "Epoch 1/20\n",
      "7/7 [==============================] - 13s 2s/step - loss: 412.9431 - val_loss: 486.2725\n",
      "Epoch 2/20\n",
      "7/7 [==============================] - 12s 2s/step - loss: 325.5335 - val_loss: 433.6587\n",
      "Epoch 3/20\n",
      "7/7 [==============================] - 12s 2s/step - loss: 302.5430 - val_loss: 395.5069\n",
      "Epoch 4/20\n",
      "7/7 [==============================] - 11s 2s/step - loss: 286.6120 - val_loss: 375.5503\n",
      "Epoch 5/20\n",
      "7/7 [==============================] - 11s 2s/step - loss: 275.0860 - val_loss: 356.3982\n",
      "Epoch 6/20\n",
      "7/7 [==============================] - 11s 2s/step - loss: 266.3161 - val_loss: 335.0105\n",
      "Epoch 7/20\n",
      "7/7 [==============================] - 11s 2s/step - loss: 260.8431 - val_loss: 323.0617\n",
      "Epoch 8/20\n",
      "7/7 [==============================] - 11s 2s/step - loss: 255.3682 - val_loss: 315.4656\n",
      "Epoch 9/20\n",
      "7/7 [==============================] - 11s 2s/step - loss: 250.9209 - val_loss: 310.6775\n",
      "Epoch 10/20\n",
      "7/7 [==============================] - 11s 2s/step - loss: 245.7266 - val_loss: 304.3862\n",
      "Epoch 11/20\n",
      "7/7 [==============================] - 11s 2s/step - loss: 241.9987 - val_loss: 301.1858\n",
      "Epoch 12/20\n",
      "7/7 [==============================] - 11s 2s/step - loss: 238.2595 - val_loss: 299.0907\n",
      "Epoch 13/20\n",
      "7/7 [==============================] - 12s 2s/step - loss: 234.8488 - val_loss: 297.0911\n",
      "Epoch 14/20\n",
      "7/7 [==============================] - 12s 2s/step - loss: 231.5056 - val_loss: 296.0250\n",
      "Epoch 15/20\n",
      "7/7 [==============================] - 11s 2s/step - loss: 228.0932 - val_loss: 295.6389\n",
      "Epoch 16/20\n",
      "7/7 [==============================] - 12s 2s/step - loss: 225.6251 - val_loss: 295.5887\n",
      "Epoch 17/20\n",
      "7/7 [==============================] - 12s 2s/step - loss: 222.5825 - val_loss: 296.0251\n",
      "Epoch 18/20\n",
      "7/7 [==============================] - 12s 2s/step - loss: 219.8331 - val_loss: 296.2786\n",
      "Epoch 19/20\n",
      "7/7 [==============================] - 12s 2s/step - loss: 216.8464 - val_loss: 297.1475\n",
      "Epoch 20/20\n",
      "7/7 [==============================] - 11s 2s/step - loss: 214.1607 - val_loss: 298.3029\n"
     ]
    }
   ],
   "source": [
    "helper.train_model(input_model=model_1,\n",
    "                   train_path = train_path,\n",
    "                   train_duration = train_duration,\n",
    "                   train_text = train_text,\n",
    "                   validation_path = validation_path,\n",
    "                   validation_duration = validation_duration,\n",
    "                   validation_text = validation_text,\n",
    "                   feats_mean = feats_mean,\n",
    "                   feats_std = feats_std,\n",
    "                   # test_path = test_path,\n",
    "                   # test_duration = test_duration,\n",
    "                   # test_text = test_text,\n",
    "                   pickle_path='model_1.pickle', \n",
    "                   save_model_path='model_1.h5')"
   ]
  },
  {
   "cell_type": "code",
   "execution_count": null,
   "metadata": {},
   "outputs": [],
   "source": []
  }
 ],
 "metadata": {
  "kernelspec": {
   "display_name": "Python 3",
   "language": "python",
   "name": "python3"
  },
  "language_info": {
   "codemirror_mode": {
    "name": "ipython",
    "version": 3
   },
   "file_extension": ".py",
   "mimetype": "text/x-python",
   "name": "python",
   "nbconvert_exporter": "python",
   "pygments_lexer": "ipython3",
   "version": "3.8.1"
  }
 },
 "nbformat": 4,
 "nbformat_minor": 4
}
